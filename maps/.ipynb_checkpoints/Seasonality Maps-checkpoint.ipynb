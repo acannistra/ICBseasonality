{
 "cells": [
  {
   "cell_type": "code",
   "execution_count": null,
   "metadata": {
    "collapsed": false
   },
   "outputs": [],
   "source": [
    "%matplotlib inline\n",
    "import pandas as pd\n",
    "from numpy import arange\n",
    "import geopandas\n",
    "from shapely.geometry import Polygon\n",
    "from ulmo.nasa import daymet\n",
    "\n",
    "## North America\n",
    "minLongitude = -180.0\n",
    "maxLongitude = -0.0\n",
    "\n",
    "minLatitude  = 0.0\n",
    "maxLatitude  = 90.0\n",
    "\n",
    "northAmericaBounds = [minLatitude, maxLatitude, minLongitude, maxLongitude]\n",
    "\n",
    "# Cell spacing = 2x2 degrees.\n",
    "cellsizeLon = 2\n",
    "cellsizeLat = 2\n",
    "\n",
    "world = geopandas.read_file(geopandas.datasets.get_path('naturalearth_lowres'))\n",
    "northAmerica = world[world['continent'] == \"North America\"]\n",
    "\n",
    "\n",
    "\n"
   ]
  },
  {
   "cell_type": "markdown",
   "metadata": {
    "collapsed": true
   },
   "source": [
    "# 1. Mapping degree-day accumulation per time period $\\Delta t$. "
   ]
  },
  {
   "cell_type": "code",
   "execution_count": null,
   "metadata": {
    "collapsed": false
   },
   "outputs": [],
   "source": [
    "startDate = \"2010-01-01\"\n",
    "endDate   = \"2010-12-31\"\n",
    "\n",
    "cells = []\n",
    "\n",
    "for lat in arange(minLatitude, maxLatitude, cellsizeLat):\n",
    "    for lon in arange(minLongitude, maxLongitude, cellsizeLon):\n",
    "        cells.append(Polygon([(lon, lat),\n",
    "                              (lon+cellsizeLon, lat),\n",
    "                              (lon+cellsizeLon, lat+cellsizeLat),\n",
    "                              (lon, lat+cellsizeLat)]))\n",
    "\n",
    "geodata = geopandas.GeoDataFrame(geometry=cells)\n",
    "geodata.crs = {'init': 'epsg:4326'} #wgs84 projection"
   ]
  },
  {
   "cell_type": "code",
   "execution_count": null,
   "metadata": {
    "collapsed": false
   },
   "outputs": [],
   "source": [
    "northAmerica.plot(ax=geodata.plot())"
   ]
  },
  {
   "cell_type": "code",
   "execution_count": null,
   "metadata": {
    "collapsed": true
   },
   "outputs": [],
   "source": []
  }
 ],
 "metadata": {
  "anaconda-cloud": {},
  "kernelspec": {
   "display_name": "Python 3",
   "language": "python",
   "name": "python3"
  },
  "language_info": {
   "codemirror_mode": {
    "name": "ipython",
    "version": 3
   },
   "file_extension": ".py",
   "mimetype": "text/x-python",
   "name": "python",
   "nbconvert_exporter": "python",
   "pygments_lexer": "ipython3",
   "version": "3.5.2"
  }
 },
 "nbformat": 4,
 "nbformat_minor": 1
}
