{
 "cells": [
  {
   "cell_type": "code",
   "execution_count": 1,
   "metadata": {
    "collapsed": true
   },
   "outputs": [],
   "source": [
    "import xarray as xa\n",
    "import math\n",
    "import numpy as np\n",
    "import datetime as dt"
   ]
  },
  {
   "cell_type": "markdown",
   "metadata": {},
   "source": [
    "# Mapping degree day accumulation per time period $\\Delta t$.\n",
    "\n",
    "Here's the weather dataset from 1950-2015:"
   ]
  },
  {
   "cell_type": "code",
   "execution_count": 2,
   "metadata": {
    "collapsed": false
   },
   "outputs": [
    {
     "name": "stdout",
     "output_type": "stream",
     "text": [
      "<xarray.Dataset>\n",
      "Dimensions:    (latitude: 73, longitude: 96, time: 23739)\n",
      "Coordinates:\n",
      "  * latitude   (latitude) float32 90.0 87.5 85.0 82.5 80.0 77.5 75.0 72.5 ...\n",
      "  * longitude  (longitude) float32 0.0 3.75 7.5 11.25 15.0 18.75 22.5 26.25 ...\n",
      "  * time       (time) float64 7.122e+05 7.122e+05 7.122e+05 7.122e+05 ...\n",
      "Data variables:\n",
      "    tmax       (time, latitude, longitude) float32 nan nan nan nan nan nan ...\n",
      "    tmin       (time, latitude, longitude) float32 nan nan nan nan nan nan ...\n"
     ]
    }
   ],
   "source": [
    "weather = xa.open_mfdataset(\"weatherdata/*.nc\", decode_times=False, chunks={'time':50});\n",
    "print weather"
   ]
  },
  {
   "cell_type": "markdown",
   "metadata": {},
   "source": [
    "Next we'll implement the degree days function, implemented [here](https://github.com/lbuckley/ICBseasonality/blob/master/DDFunctions.R) in R. "
   ]
  },
  {
   "cell_type": "code",
   "execution_count": 3,
   "metadata": {
    "collapsed": false
   },
   "outputs": [],
   "source": [
    "## coords: NP series containing:\n",
    "##    tmin: temperature minimum value\n",
    "##    tmax: temperature max value\n",
    "## ldt: lower developmental threshold.\n",
    "def degreeDays(coords, ldt): \n",
    "    tmin = float(coords.tmin)\n",
    "    tmax = float(coords.tmax)\n",
    "    ldt  = float(ldt)\n",
    "    \n",
    "    if (math.isnan(tmin) or math.isnan(tmax)): return -1\n",
    "    \n",
    "    degreeDays = 0.0\n",
    "    \n",
    "    if (tmin >= ldt): # temperature entirely above ldt\n",
    "        degreeDays = (tmax + tmin)/2-ldt\n",
    "    \n",
    "    if (tmin < ldt and tmax > ldt):\n",
    "        alpha = (tmax-tmin)/2\n",
    "        theta1 = math.asin(((ldt - (tmax+tmin))/alpha)*math.pi/180.0)\n",
    "        degreeDays = 1/math.pi*(((tmax+tmin)/2-ldt)*(math.pi/2-theta1)+alpha*math.cos(theta1))\n",
    "        \n",
    "        if(degreeDays < 0):\n",
    "            degreeDays = 0\n",
    "        \n",
    "    if (tmax <= ldt):\n",
    "        degreeDays = 0\n",
    "        \n",
    "    return degreeDays\n",
    "        \n",
    "\\"
   ]
  },
  {
   "cell_type": "code",
   "execution_count": null,
   "metadata": {
    "collapsed": false
   },
   "outputs": [],
   "source": [
    "df = weather.sel(latitude=30, longitude=-123.0, method='nearest').to_dataframe()\n",
    "df_range = weather.sel(latitude=slice(30,20)).to_dataframe()"
   ]
  },
  {
   "cell_type": "code",
   "execution_count": null,
   "metadata": {
    "collapsed": false
   },
   "outputs": [],
   "source": [
    "df_range.apply(degreeDays, axis=1, ldt=10)"
   ]
  },
  {
   "cell_type": "code",
   "execution_count": null,
   "metadata": {
    "collapsed": false
   },
   "outputs": [],
   "source": [
    "newdim = xa.concat([tmax, tmin], 'concat').where((latitude > 20 & longitude < -120))"
   ]
  },
  {
   "cell_type": "code",
   "execution_count": null,
   "metadata": {
    "collapsed": true
   },
   "outputs": [],
   "source": []
  }
 ],
 "metadata": {
  "anaconda-cloud": {},
  "kernelspec": {
   "display_name": "Python [conda root]",
   "language": "python",
   "name": "conda-root-py"
  },
  "language_info": {
   "codemirror_mode": {
    "name": "ipython",
    "version": 2
   },
   "file_extension": ".py",
   "mimetype": "text/x-python",
   "name": "python",
   "nbconvert_exporter": "python",
   "pygments_lexer": "ipython2",
   "version": "2.7.12"
  }
 },
 "nbformat": 4,
 "nbformat_minor": 1
}
